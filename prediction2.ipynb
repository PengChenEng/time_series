{
 "cells": [
  {
   "cell_type": "code",
   "execution_count": 3,
   "metadata": {},
   "outputs": [],
   "source": [
    "from math import sqrt\n",
    "from numpy import concatenate\n",
    "from matplotlib import pyplot\n",
    "import pandas as pd\n",
    "from pandas import read_csv\n",
    "from pandas import DataFrame\n",
    "from pandas import concat\n",
    "from sklearn.preprocessing import MinMaxScaler\n",
    "from sklearn.preprocessing import LabelEncoder\n",
    "from sklearn.metrics import mean_squared_error\n",
    "from keras.models import Sequential\n",
    "from keras.layers import Dense\n",
    "from keras.layers import LSTM"
   ]
  },
  {
   "cell_type": "code",
   "execution_count": 4,
   "metadata": {},
   "outputs": [
    {
     "name": "stdout",
     "output_type": "stream",
     "text": [
      "   ride  weekday  hour  minute  day\n",
      "0     3        4     0       0    1\n",
      "1     3        4     0      15    1\n",
      "2     7        4     0      30    1\n",
      "3     7        4     0      45    1\n",
      "4     5        4     1       0    1\n"
     ]
    }
   ],
   "source": [
    "# import dataset as data\n",
    "df = pd.read_json('MLandStatsDataSet.json')\n",
    "df = df.set_index(df['login_time'])\n",
    "df['ride'] = 1\n",
    "data_15 = df.groupby(pd.Grouper(freq = '15Min')).agg({'ride':'count'}).reset_index()\n",
    "data_15['weekday'] = data_15['login_time'].dt.weekday\n",
    "data_15['hour'] = data_15['login_time'].dt.hour\n",
    "data_15['minute'] = data_15['login_time'].dt.minute\n",
    "data_15['day'] = data_15['login_time'].dt.day\n",
    "data_15 = data_15.drop(columns = 'login_time')\n",
    "print(data_15.head())"
   ]
  },
  {
   "cell_type": "code",
   "execution_count": 15,
   "metadata": {},
   "outputs": [
    {
     "name": "stdout",
     "output_type": "stream",
     "text": [
      "19\n",
      "0\n"
     ]
    }
   ],
   "source": []
  },
  {
   "cell_type": "code",
   "execution_count": 5,
   "metadata": {},
   "outputs": [],
   "source": [
    "def series_to_supervised(data, n_in=1, n_out=1, dropnan=True):\n",
    "    n_vars = 1 if type(data) is list else data.shape[1]\n",
    "    df = DataFrame(data)\n",
    "    cols, names = list(), list()\n",
    "    # data series\n",
    "    for i in range(n_in, 0, -1):\n",
    "        cols.append(df.shift(i))\n",
    "        names+=[('var%d(t-%d)'%(j+1, i)) for j in range(n_vars)]\n",
    "    # predicted data\n",
    "    for i in range(0, n_out, 1):\n",
    "        cols.append(df.shift(-i))\n",
    "        if i==0:\n",
    "            names+=[('var%d(t)'%(j+1)) for j in range(n_vars)]\n",
    "        else:\n",
    "            names+=[('var%d(t+%d))'%(j+1, i)) for j in range(n_vars)]\n",
    "    # concatination\n",
    "    agg = concat(cols, axis=1)\n",
    "    if dropnan:\n",
    "        agg.dropna(inplace=True)\n",
    "    return agg"
   ]
  },
  {
   "cell_type": "code",
   "execution_count": 30,
   "metadata": {},
   "outputs": [
    {
     "name": "stdout",
     "output_type": "stream",
     "text": [
      "          0         1         2         3    4         0         1         2  \\\n",
      "1  0.157895  0.666667  0.000000  0.000000  0.0  0.157895  0.666667  0.000000   \n",
      "2  0.157895  0.666667  0.000000  0.333333  0.0  0.368421  0.666667  0.000000   \n",
      "3  0.368421  0.666667  0.000000  0.666667  0.0  0.368421  0.666667  0.000000   \n",
      "4  0.368421  0.666667  0.000000  1.000000  0.0  0.263158  0.666667  0.043478   \n",
      "5  0.263158  0.666667  0.043478  0.000000  0.0  0.263158  0.666667  0.043478   \n",
      "\n",
      "          3    4  \n",
      "1  0.333333  0.0  \n",
      "2  0.666667  0.0  \n",
      "3  1.000000  0.0  \n",
      "4  0.000000  0.0  \n",
      "5  0.333333  0.0  \n"
     ]
    }
   ],
   "source": [
    "values = data_15.values\n",
    "encoder = LabelEncoder()\n",
    "values[:,4] = encoder.fit_transform(values[:,4])\n",
    "values = values.astype('float32')\n",
    "# Converted to supervised learning\n",
    "reframed = series_to_supervised(values, 1, 1)\n",
    "print(reframed.head())"
   ]
  },
  {
   "cell_type": "code",
   "execution_count": 8,
   "metadata": {},
   "outputs": [
    {
     "name": "stdout",
     "output_type": "stream",
     "text": [
      "train_x.shape, train_y.shape, test_x.shape, test_y.shape\n",
      "(20000, 1, 9) (20000,) (3003, 1, 9) (3003,)\n",
      "Train on 20000 samples, validate on 3003 samples\n",
      "Epoch 1/100\n",
      " - 7s - loss: 0.1072 - val_loss: 0.0954\n",
      "Epoch 2/100\n",
      " - 5s - loss: 0.0995 - val_loss: 0.0943\n",
      "Epoch 3/100\n",
      " - 5s - loss: 0.0984 - val_loss: 0.0939\n",
      "Epoch 4/100\n",
      " - 5s - loss: 0.0975 - val_loss: 0.0927\n",
      "Epoch 5/100\n",
      " - 5s - loss: 0.0970 - val_loss: 0.0924\n",
      "Epoch 6/100\n",
      " - 7s - loss: 0.0966 - val_loss: 0.0918\n",
      "Epoch 7/100\n",
      " - 6s - loss: 0.0963 - val_loss: 0.0917\n",
      "Epoch 8/100\n",
      " - 6s - loss: 0.0960 - val_loss: 0.0910\n",
      "Epoch 9/100\n",
      " - 6s - loss: 0.0956 - val_loss: 0.0903\n",
      "Epoch 10/100\n",
      " - 7s - loss: 0.0954 - val_loss: 0.0899\n",
      "Epoch 11/100\n",
      " - 6s - loss: 0.0952 - val_loss: 0.0896\n",
      "Epoch 12/100\n",
      " - 5s - loss: 0.0950 - val_loss: 0.0891\n",
      "Epoch 13/100\n",
      " - 5s - loss: 0.0948 - val_loss: 0.0887\n",
      "Epoch 14/100\n",
      " - 5s - loss: 0.0946 - val_loss: 0.0888\n",
      "Epoch 15/100\n",
      " - 5s - loss: 0.0943 - val_loss: 0.0885\n",
      "Epoch 16/100\n",
      " - 5s - loss: 0.0941 - val_loss: 0.0881\n",
      "Epoch 17/100\n",
      " - 5s - loss: 0.0939 - val_loss: 0.0880\n",
      "Epoch 18/100\n",
      " - 5s - loss: 0.0936 - val_loss: 0.0879\n",
      "Epoch 19/100\n",
      " - 5s - loss: 0.0933 - val_loss: 0.0876\n",
      "Epoch 20/100\n",
      " - 5s - loss: 0.0928 - val_loss: 0.0878\n",
      "Epoch 21/100\n",
      " - 5s - loss: 0.0923 - val_loss: 0.0874\n",
      "Epoch 22/100\n",
      " - 5s - loss: 0.0917 - val_loss: 0.0875\n",
      "Epoch 23/100\n",
      " - 6s - loss: 0.0914 - val_loss: 0.0873\n",
      "Epoch 24/100\n",
      " - 5s - loss: 0.0909 - val_loss: 0.0872\n",
      "Epoch 25/100\n",
      " - 6s - loss: 0.0907 - val_loss: 0.0865\n",
      "Epoch 26/100\n",
      " - 5s - loss: 0.0905 - val_loss: 0.0866\n",
      "Epoch 27/100\n",
      " - 6s - loss: 0.0903 - val_loss: 0.0864\n",
      "Epoch 28/100\n",
      " - 6s - loss: 0.0902 - val_loss: 0.0863\n",
      "Epoch 29/100\n",
      " - 5s - loss: 0.0901 - val_loss: 0.0865\n",
      "Epoch 30/100\n",
      " - 5s - loss: 0.0900 - val_loss: 0.0864\n",
      "Epoch 31/100\n",
      " - 5s - loss: 0.0899 - val_loss: 0.0861\n",
      "Epoch 32/100\n",
      " - 5s - loss: 0.0898 - val_loss: 0.0861\n",
      "Epoch 33/100\n",
      " - 5s - loss: 0.0897 - val_loss: 0.0859\n",
      "Epoch 34/100\n",
      " - 5s - loss: 0.0896 - val_loss: 0.0860\n",
      "Epoch 35/100\n",
      " - 5s - loss: 0.0896 - val_loss: 0.0859\n",
      "Epoch 36/100\n",
      " - 5s - loss: 0.0895 - val_loss: 0.0856\n",
      "Epoch 37/100\n",
      " - 5s - loss: 0.0894 - val_loss: 0.0856\n",
      "Epoch 38/100\n",
      " - 5s - loss: 0.0894 - val_loss: 0.0855\n",
      "Epoch 39/100\n",
      " - 5s - loss: 0.0893 - val_loss: 0.0854\n",
      "Epoch 40/100\n",
      " - 5s - loss: 0.0892 - val_loss: 0.0853\n",
      "Epoch 41/100\n",
      " - 5s - loss: 0.0892 - val_loss: 0.0852\n",
      "Epoch 42/100\n",
      " - 5s - loss: 0.0891 - val_loss: 0.0852\n",
      "Epoch 43/100\n",
      " - 5s - loss: 0.0890 - val_loss: 0.0852\n",
      "Epoch 44/100\n",
      " - 5s - loss: 0.0889 - val_loss: 0.0850\n",
      "Epoch 45/100\n",
      " - 5s - loss: 0.0887 - val_loss: 0.0848\n",
      "Epoch 46/100\n",
      " - 5s - loss: 0.0887 - val_loss: 0.0845\n",
      "Epoch 47/100\n",
      " - 6s - loss: 0.0886 - val_loss: 0.0845\n",
      "Epoch 48/100\n",
      " - 6s - loss: 0.0885 - val_loss: 0.0846\n",
      "Epoch 49/100\n",
      " - 5s - loss: 0.0884 - val_loss: 0.0844\n",
      "Epoch 50/100\n",
      " - 6s - loss: 0.0884 - val_loss: 0.0844\n",
      "Epoch 51/100\n",
      " - 5s - loss: 0.0883 - val_loss: 0.0842\n",
      "Epoch 52/100\n",
      " - 6s - loss: 0.0883 - val_loss: 0.0841\n",
      "Epoch 53/100\n",
      " - 5s - loss: 0.0882 - val_loss: 0.0840\n",
      "Epoch 54/100\n",
      " - 5s - loss: 0.0882 - val_loss: 0.0840\n",
      "Epoch 55/100\n",
      " - 5s - loss: 0.0881 - val_loss: 0.0840\n",
      "Epoch 56/100\n",
      " - 5s - loss: 0.0881 - val_loss: 0.0840\n",
      "Epoch 57/100\n",
      " - 5s - loss: 0.0881 - val_loss: 0.0840\n",
      "Epoch 58/100\n",
      " - 5s - loss: 0.0880 - val_loss: 0.0839\n",
      "Epoch 59/100\n",
      " - 5s - loss: 0.0880 - val_loss: 0.0839\n",
      "Epoch 60/100\n",
      " - 5s - loss: 0.0880 - val_loss: 0.0839\n",
      "Epoch 61/100\n",
      " - 6s - loss: 0.0880 - val_loss: 0.0839\n",
      "Epoch 62/100\n",
      " - 5s - loss: 0.0880 - val_loss: 0.0837\n",
      "Epoch 63/100\n",
      " - 5s - loss: 0.0880 - val_loss: 0.0838\n",
      "Epoch 64/100\n",
      " - 5s - loss: 0.0880 - val_loss: 0.0838\n",
      "Epoch 65/100\n",
      " - 5s - loss: 0.0879 - val_loss: 0.0839\n",
      "Epoch 66/100\n",
      " - 5s - loss: 0.0879 - val_loss: 0.0838\n",
      "Epoch 67/100\n",
      " - 5s - loss: 0.0879 - val_loss: 0.0838\n",
      "Epoch 68/100\n",
      " - 5s - loss: 0.0878 - val_loss: 0.0838\n",
      "Epoch 69/100\n",
      " - 5s - loss: 0.0878 - val_loss: 0.0838\n",
      "Epoch 70/100\n",
      " - 5s - loss: 0.0878 - val_loss: 0.0838\n",
      "Epoch 71/100\n",
      " - 5s - loss: 0.0878 - val_loss: 0.0837\n",
      "Epoch 72/100\n",
      " - 5s - loss: 0.0878 - val_loss: 0.0837\n",
      "Epoch 73/100\n",
      " - 5s - loss: 0.0878 - val_loss: 0.0838\n",
      "Epoch 74/100\n",
      " - 5s - loss: 0.0878 - val_loss: 0.0838\n",
      "Epoch 75/100\n",
      " - 6s - loss: 0.0877 - val_loss: 0.0837\n",
      "Epoch 76/100\n",
      " - 6s - loss: 0.0878 - val_loss: 0.0837\n",
      "Epoch 77/100\n",
      " - 5s - loss: 0.0877 - val_loss: 0.0837\n",
      "Epoch 78/100\n",
      " - 6s - loss: 0.0877 - val_loss: 0.0837\n",
      "Epoch 79/100\n",
      " - 6s - loss: 0.0877 - val_loss: 0.0836\n",
      "Epoch 80/100\n",
      " - 5s - loss: 0.0877 - val_loss: 0.0836\n",
      "Epoch 81/100\n",
      " - 5s - loss: 0.0877 - val_loss: 0.0837\n",
      "Epoch 82/100\n",
      " - 5s - loss: 0.0877 - val_loss: 0.0837\n",
      "Epoch 83/100\n",
      " - 5s - loss: 0.0877 - val_loss: 0.0836\n",
      "Epoch 84/100\n",
      " - 5s - loss: 0.0877 - val_loss: 0.0836\n",
      "Epoch 85/100\n",
      " - 5s - loss: 0.0877 - val_loss: 0.0836\n",
      "Epoch 86/100\n",
      " - 5s - loss: 0.0877 - val_loss: 0.0835\n",
      "Epoch 87/100\n",
      " - 5s - loss: 0.0877 - val_loss: 0.0835\n",
      "Epoch 88/100\n",
      " - 5s - loss: 0.0877 - val_loss: 0.0834\n",
      "Epoch 89/100\n",
      " - 5s - loss: 0.0876 - val_loss: 0.0835\n",
      "Epoch 90/100\n",
      " - 5s - loss: 0.0876 - val_loss: 0.0835\n",
      "Epoch 91/100\n",
      " - 5s - loss: 0.0876 - val_loss: 0.0834\n",
      "Epoch 92/100\n",
      " - 5s - loss: 0.0876 - val_loss: 0.0835\n",
      "Epoch 93/100\n",
      " - 5s - loss: 0.0876 - val_loss: 0.0835\n",
      "Epoch 94/100\n",
      " - 5s - loss: 0.0876 - val_loss: 0.0835\n",
      "Epoch 95/100\n",
      " - 5s - loss: 0.0876 - val_loss: 0.0835\n",
      "Epoch 96/100\n",
      " - 5s - loss: 0.0876 - val_loss: 0.0835\n",
      "Epoch 97/100\n",
      " - 5s - loss: 0.0876 - val_loss: 0.0834\n",
      "Epoch 98/100\n",
      " - 5s - loss: 0.0876 - val_loss: 0.0834\n",
      "Epoch 99/100\n",
      " - 5s - loss: 0.0875 - val_loss: 0.0834\n",
      "Epoch 100/100\n",
      " - 6s - loss: 0.0875 - val_loss: 0.0834\n"
     ]
    },
    {
     "data": {
      "image/png": "[encoded data removed]",
      "text/plain": [
       "<Figure size 432x288 with 1 Axes>"
      ]
     },
     "metadata": {
      "needs_background": "light"
     },
     "output_type": "display_data"
    },
    {
     "name": "stdout",
     "output_type": "stream",
     "text": [
      "Test RMSE:0.107\n"
     ]
    }
   ],
   "source": [
    "values = reframed.values\n",
    "# Normalization\n",
    "scaler = MinMaxScaler(feature_range=(0,1))\n",
    "scaled = scaler.fit_transform(values)\n",
    "values = scaled\n",
    "# selected first seven monthes as training data\n",
    "n_train_hours = 20000\n",
    "\n",
    "# split training and test set\n",
    "train = values[:n_train_hours, :]\n",
    "test = values[n_train_hours:, :]\n",
    "train_x, train_y = train[:, 1:], train[:, 0]\n",
    "test_x, test_y = test[:, 1:], test[:, 0]\n",
    "\n",
    "#reshape input to the LSTM format\n",
    "train_x = train_x.reshape((train_x.shape[0], 1, train_x.shape[1]))\n",
    "test_x = test_x.reshape((test_x.shape[0], 1, test_x.shape[1]))\n",
    "print('train_x.shape, train_y.shape, test_x.shape, test_y.shape')\n",
    "print(train_x.shape, train_y.shape, test_x.shape, test_y.shape)\n",
    " \n",
    "# Model defination\n",
    "#-------------------------\n",
    "model = Sequential()\n",
    "model.add(LSTM(100, input_shape=(train_x.shape[1], train_x.shape[2])))\n",
    "model.add(Dense(1))\n",
    "model.compile(loss='mae', optimizer='adam')\n",
    " \n",
    "# train model\n",
    "#------------------------\n",
    "history = model.fit(train_x, train_y, epochs=100, batch_size=72, validation_data=(test_x, test_y), verbose=2, shuffle=False)\n",
    " \n",
    "# plot output\n",
    "pyplot.plot(history.history['loss'], label='train')\n",
    "pyplot.plot(history.history['val_loss'], label='test')\n",
    "pyplot.legend()\n",
    "pyplot.show()\n",
    " \n",
    "# prediction\n",
    "# the max ride is 19 and min is 0\n",
    "#------------------------\n",
    "yhat = model.predict(test_x)\n",
    "inv_yhat = yhat * 19\n",
    "test_x = test_x.reshape(test_x.shape[0], test_x.shape[2])\n",
    "# predicted data inversion\n",
    "# inv_yhat = concatenate((yhat, test_x[:, 1:]), axis=1)       \n",
    "# # inv_yhat = scaler.inverse_transform(inv_yhat)\n",
    "# inv_yhat = inv_yhat[:, 0]\n",
    "# label inversion\n",
    "test_y = test_y.reshape(len(test_y), 1)\n",
    "inv_y = test_y * 19\n",
    "# # inv_y = concatenate((test_y, test_x[:, 1:]), axis=1)\n",
    "# # inv_y = scaler.inverse_transform(inv_y)\n",
    "# inv_y = inv_y[:, 0]\n",
    "# compute MSE\n",
    "rmse = sqrt(mean_squared_error(inv_y, inv_yhat))\n",
    "print('Test RMSE:%.3f'%rmse)"
   ]
  },
  {
   "cell_type": "code",
   "execution_count": 18,
   "metadata": {},
   "outputs": [
    {
     "name": "stdout",
     "output_type": "stream",
     "text": [
      "Test RMSE:2.036\n"
     ]
    }
   ],
   "source": [
    "inv_yhat = yhat * 19\n",
    "inv_y = test_y * 19\n",
    "rmse = sqrt(mean_squared_error(inv_y, inv_yhat))\n",
    "print('Test RMSE:%.3f'%rmse)"
   ]
  },
  {
   "cell_type": "code",
   "execution_count": 28,
   "metadata": {},
   "outputs": [
    {
     "data": {
      "text/plain": [
       "<matplotlib.legend.Legend at 0x1a4087a5f8>"
      ]
     },
     "execution_count": 28,
     "metadata": {},
     "output_type": "execute_result"
    },
    {
     "data": {
      "image/png": "[encoded data removed]",
      "text/plain": [
       "<Figure size 432x288 with 1 Axes>"
      ]
     },
     "metadata": {
      "needs_background": "light"
     },
     "output_type": "display_data"
    }
   ],
   "source": [
    "x = range(0, 100)\n",
    "pyplot.plot(x, inv_yhat[0:100], label = 'pred')\n",
    "pyplot.plot(x, inv_y[0:100], label = 'actual')\n",
    "pyplot.legend()"
   ]
  },
  {
   "cell_type": "code",
   "execution_count": null,
   "metadata": {},
   "outputs": [],
   "source": []
  }
 ],
 "metadata": {
  "kernelspec": {
   "display_name": "Python 3",
   "language": "python",
   "name": "python3"
  },
  "language_info": {
   "codemirror_mode": {
    "name": "ipython",
    "version": 3
   },
   "file_extension": ".py",
   "mimetype": "text/x-python",
   "name": "python",
   "nbconvert_exporter": "python",
   "pygments_lexer": "ipython3",
   "version": "3.6.8"
  }
 },
 "nbformat": 4,
 "nbformat_minor": 2
}
