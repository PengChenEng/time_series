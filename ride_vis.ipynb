{
 "cells": [
  {
   "cell_type": "code",
   "execution_count": 1,
   "metadata": {},
   "outputs": [],
   "source": [
    "import pandas as pd\n",
    "import matplotlib.pyplot as plt\n",
    "import seaborn as sns"
   ]
  },
  {
   "cell_type": "code",
   "execution_count": 2,
   "metadata": {},
   "outputs": [
    {
     "name": "stdout",
     "output_type": "stream",
     "text": [
      "           login_time\n",
      "0 2010-01-01 00:11:52\n",
      "1 2010-01-01 00:13:00\n",
      "2 2010-01-01 00:14:49\n",
      "3 2010-01-01 00:21:00\n",
      "4 2010-01-01 00:23:05\n",
      "               login_time\n",
      "97418 2010-08-28 14:38:00\n",
      "97419 2010-08-28 14:38:39\n",
      "97420 2010-08-28 14:44:25\n",
      "97421 2010-08-28 14:45:34\n",
      "97422 2010-08-28 14:47:00\n"
     ]
    }
   ],
   "source": [
    "# import dataset as data\n",
    "df = pd.read_json('MLandStatsDataSet.json')\n",
    "print(df.head())\n",
    "print(df.tail())"
   ]
  },
  {
   "cell_type": "code",
   "execution_count": 3,
   "metadata": {},
   "outputs": [
    {
     "data": {
      "text/html": [
       "<div>\n",
       "<style scoped>\n",
       "    .dataframe tbody tr th:only-of-type {\n",
       "        vertical-align: middle;\n",
       "    }\n",
       "\n",
       "    .dataframe tbody tr th {\n",
       "        vertical-align: top;\n",
       "    }\n",
       "\n",
       "    .dataframe thead th {\n",
       "        text-align: right;\n",
       "    }\n",
       "</style>\n",
       "<table border=\"1\" class=\"dataframe\">\n",
       "  <thead>\n",
       "    <tr style=\"text-align: right;\">\n",
       "      <th></th>\n",
       "      <th>login_time</th>\n",
       "      <th>ride</th>\n",
       "      <th>month</th>\n",
       "      <th>month_name</th>\n",
       "      <th>week_day</th>\n",
       "      <th>day</th>\n",
       "      <th>hour</th>\n",
       "    </tr>\n",
       "    <tr>\n",
       "      <th>login_time</th>\n",
       "      <th></th>\n",
       "      <th></th>\n",
       "      <th></th>\n",
       "      <th></th>\n",
       "      <th></th>\n",
       "      <th></th>\n",
       "      <th></th>\n",
       "    </tr>\n",
       "  </thead>\n",
       "  <tbody>\n",
       "    <tr>\n",
       "      <th>2010-01-01 00:11:52</th>\n",
       "      <td>2010-01-01 00:11:52</td>\n",
       "      <td>1</td>\n",
       "      <td>1</td>\n",
       "      <td>JAN</td>\n",
       "      <td>Friday</td>\n",
       "      <td>1</td>\n",
       "      <td>0</td>\n",
       "    </tr>\n",
       "    <tr>\n",
       "      <th>2010-01-01 00:13:00</th>\n",
       "      <td>2010-01-01 00:13:00</td>\n",
       "      <td>1</td>\n",
       "      <td>1</td>\n",
       "      <td>JAN</td>\n",
       "      <td>Friday</td>\n",
       "      <td>1</td>\n",
       "      <td>0</td>\n",
       "    </tr>\n",
       "    <tr>\n",
       "      <th>2010-01-01 00:14:49</th>\n",
       "      <td>2010-01-01 00:14:49</td>\n",
       "      <td>1</td>\n",
       "      <td>1</td>\n",
       "      <td>JAN</td>\n",
       "      <td>Friday</td>\n",
       "      <td>1</td>\n",
       "      <td>0</td>\n",
       "    </tr>\n",
       "    <tr>\n",
       "      <th>2010-01-01 00:21:00</th>\n",
       "      <td>2010-01-01 00:21:00</td>\n",
       "      <td>1</td>\n",
       "      <td>1</td>\n",
       "      <td>JAN</td>\n",
       "      <td>Friday</td>\n",
       "      <td>1</td>\n",
       "      <td>0</td>\n",
       "    </tr>\n",
       "    <tr>\n",
       "      <th>2010-01-01 00:23:05</th>\n",
       "      <td>2010-01-01 00:23:05</td>\n",
       "      <td>1</td>\n",
       "      <td>1</td>\n",
       "      <td>JAN</td>\n",
       "      <td>Friday</td>\n",
       "      <td>1</td>\n",
       "      <td>0</td>\n",
       "    </tr>\n",
       "  </tbody>\n",
       "</table>\n",
       "</div>"
      ],
      "text/plain": [
       "                             login_time  ride  month month_name week_day  day  \\\n",
       "login_time                                                                      \n",
       "2010-01-01 00:11:52 2010-01-01 00:11:52     1      1        JAN   Friday    1   \n",
       "2010-01-01 00:13:00 2010-01-01 00:13:00     1      1        JAN   Friday    1   \n",
       "2010-01-01 00:14:49 2010-01-01 00:14:49     1      1        JAN   Friday    1   \n",
       "2010-01-01 00:21:00 2010-01-01 00:21:00     1      1        JAN   Friday    1   \n",
       "2010-01-01 00:23:05 2010-01-01 00:23:05     1      1        JAN   Friday    1   \n",
       "\n",
       "                     hour  \n",
       "login_time                 \n",
       "2010-01-01 00:11:52     0  \n",
       "2010-01-01 00:13:00     0  \n",
       "2010-01-01 00:14:49     0  \n",
       "2010-01-01 00:21:00     0  \n",
       "2010-01-01 00:23:05     0  "
      ]
     },
     "execution_count": 3,
     "metadata": {},
     "output_type": "execute_result"
    }
   ],
   "source": [
    "df = df.set_index(df['login_time'])\n",
    "df['ride'] = 1\n",
    "df.index = pd.to_datetime(df.index)\n",
    "df['month'] = pd.DatetimeIndex(df['login_time']).month\n",
    "df['month_name'] = df['month'].map({1: 'JAN', 2:'FEB', 3: 'MAR', 4:'APR', 5:'MAR', 6:'JUN', 7:'JUL', 8:'AUG'})\n",
    "df['week_day'] = df['login_time'].dt.weekday_name\n",
    "df['day'] = df['login_time'].dt.day\n",
    "df['hour'] = df['login_time'].dt.hour\n",
    "df.head()"
   ]
  },
  {
   "cell_type": "code",
   "execution_count": 73,
   "metadata": {
    "scrolled": true
   },
   "outputs": [
    {
     "data": {
      "image/png": "[encoded data removed]",
      "text/plain": [
       "<Figure size 432x288 with 1 Axes>"
      ]
     },
     "metadata": {
      "needs_background": "light"
     },
     "output_type": "display_data"
    }
   ],
   "source": [
    "data_15 = df.groupby(pd.Grouper(freq = '15Min')).agg({'ride':'count'}).reset_index()\n",
    "data_15['weekday'] = data_15['login_time'].dt.weekday_name\n",
    "data_15['hour'] = data_15['login_time'].dt.hour\n",
    "data_15['minute'] = data_15['login_time'].dt.minute\n",
    "data_15['time'] = data_15['hour'].astype(str) + ':' + data_15['minute'].astype(str)\n",
    "daily_analysis = data_15.groupby(['time', 'weekday']).mean().reset_index()\n",
    "daily_analysis['hour'] = pd.to_numeric(daily_analysis['hour'], errors = 'coerce')\n",
    "daily_analysis = daily_analysis.sort_values('hour')\n",
    "one = daily_analysis[daily_analysis['weekday'] == 'Saturday']\n",
    "ax = one.plot(x='time', y='ride', label = 'Saturday')"
   ]
  },
  {
   "cell_type": "code",
   "execution_count": 88,
   "metadata": {},
   "outputs": [
    {
     "name": "stdout",
     "output_type": "stream",
     "text": [
      "              login_time  ride weekday  day  hour  minute  time\n",
      "4225 2010-02-14 00:15:00     6  Sunday   14     0      15  0:15\n",
      "4226 2010-02-14 00:30:00     9  Sunday   14     0      30  0:30\n",
      "4227 2010-02-14 00:45:00     7  Sunday   14     0      45  0:45\n",
      "4228 2010-02-14 01:00:00     5  Sunday   14     1       0   1:0\n",
      "4229 2010-02-14 01:15:00     7  Sunday   14     1      15  1:15\n"
     ]
    },
    {
     "data": {
      "image/png": "[encoded data removed]",
      "text/plain": [
       "<Figure size 432x288 with 1 Axes>"
      ]
     },
     "metadata": {
      "needs_background": "light"
     },
     "output_type": "display_data"
    }
   ],
   "source": [
    "oneday = data_15[(data_15['login_time'] > '2010-2-14 00:00:00') & (data_15['login_time'] <= '2010-2-15 00:00:00')]\n",
    "oneday.plot(x = 'login_time', y = 'ride')\n",
    "print(oneday.head())"
   ]
  },
  {
   "cell_type": "code",
   "execution_count": 5,
   "metadata": {},
   "outputs": [
    {
     "name": "stdout",
     "output_type": "stream",
     "text": [
      "   month  count month_name\n",
      "0      1  12996        JAN\n",
      "1      2   9971        FEB\n",
      "2      3  11457        MAR\n"
     ]
    },
    {
     "data": {
      "image/png": "[encoded data removed]",
      "text/plain": [
       "<Figure size 432x288 with 1 Axes>"
      ]
     },
     "metadata": {
      "needs_background": "light"
     },
     "output_type": "display_data"
    }
   ],
   "source": [
    "monthly_analysis = df.groupby('month').agg({'ride':'count'}).reset_index()\n",
    "monthly_analysis['month_name'] = monthly_analysis['month'].map({1: 'JAN', 2:'FEB', 3: 'MAR', 4:'APR', 5:'MAR', 6:'JUN', 7:'JUL', 8:'AUG'})\n",
    "monthly_analysis = monthly_analysis.rename(columns = {'ride':'count'})\n",
    "print(monthly_analysis.head(3))\n",
    "ax = sns.barplot(x = 'month_name', y = 'count', palette = \"GnBu_d\", data = monthly_analysis, ci=None)"
   ]
  },
  {
   "cell_type": "code",
   "execution_count": 6,
   "metadata": {},
   "outputs": [
    {
     "name": "stdout",
     "output_type": "stream",
     "text": [
      "   week_day  count\n",
      "0    Friday  15552\n",
      "1    Monday  12413\n",
      "2  Saturday  14710\n"
     ]
    },
    {
     "data": {
      "text/plain": [
       "[Text(0, 0, 'Sunday'),\n",
       " Text(0, 0, 'Monday'),\n",
       " Text(0, 0, 'Tuesday'),\n",
       " Text(0, 0, 'Wednesday'),\n",
       " Text(0, 0, 'Thursday'),\n",
       " Text(0, 0, 'Friday'),\n",
       " Text(0, 0, 'Saturday')]"
      ]
     },
     "execution_count": 6,
     "metadata": {},
     "output_type": "execute_result"
    },
    {
     "data": {
      "image/png": "[encoded data removed]",
      "text/plain": [
       "<Figure size 432x288 with 1 Axes>"
      ]
     },
     "metadata": {
      "needs_background": "light"
     },
     "output_type": "display_data"
    }
   ],
   "source": [
    "weekly_analysis = df.groupby('week_day').agg({'ride':'count'}).reset_index()\n",
    "weekly_analysis = weekly_analysis.rename(columns = {'ride':'count'})\n",
    "print(weekly_analysis.head(3))\n",
    "ax = sns.barplot(x = 'week_day', y = 'count', palette = \"GnBu_d\", data = weekly_analysis, ci=None, order = ['Sunday', 'Monday', 'Tuesday', 'Wednesday', 'Thursday', 'Friday', 'Saturday'])\n",
    "ax.set_xticklabels(ax.get_xticklabels(), rotation=30)"
   ]
  },
  {
   "cell_type": "code",
   "execution_count": 7,
   "metadata": {},
   "outputs": [
    {
     "data": {
      "text/html": [
       "<div>\n",
       "<style scoped>\n",
       "    .dataframe tbody tr th:only-of-type {\n",
       "        vertical-align: middle;\n",
       "    }\n",
       "\n",
       "    .dataframe tbody tr th {\n",
       "        vertical-align: top;\n",
       "    }\n",
       "\n",
       "    .dataframe thead th {\n",
       "        text-align: right;\n",
       "    }\n",
       "</style>\n",
       "<table border=\"1\" class=\"dataframe\">\n",
       "  <thead>\n",
       "    <tr style=\"text-align: right;\">\n",
       "      <th></th>\n",
       "      <th>login_time</th>\n",
       "      <th>ride</th>\n",
       "      <th>month</th>\n",
       "      <th>month_name</th>\n",
       "      <th>week_day</th>\n",
       "      <th>day</th>\n",
       "      <th>hour</th>\n",
       "    </tr>\n",
       "    <tr>\n",
       "      <th>login_time</th>\n",
       "      <th></th>\n",
       "      <th></th>\n",
       "      <th></th>\n",
       "      <th></th>\n",
       "      <th></th>\n",
       "      <th></th>\n",
       "      <th></th>\n",
       "    </tr>\n",
       "  </thead>\n",
       "  <tbody>\n",
       "    <tr>\n",
       "      <th>2010-01-04 00:12:00</th>\n",
       "      <td>2010-01-04 00:12:00</td>\n",
       "      <td>1</td>\n",
       "      <td>1</td>\n",
       "      <td>JAN</td>\n",
       "      <td>Monday</td>\n",
       "      <td>4</td>\n",
       "      <td>0</td>\n",
       "    </tr>\n",
       "    <tr>\n",
       "      <th>2010-01-04 00:12:42</th>\n",
       "      <td>2010-01-04 00:12:42</td>\n",
       "      <td>1</td>\n",
       "      <td>1</td>\n",
       "      <td>JAN</td>\n",
       "      <td>Monday</td>\n",
       "      <td>4</td>\n",
       "      <td>0</td>\n",
       "    </tr>\n",
       "    <tr>\n",
       "      <th>2010-01-04 00:14:00</th>\n",
       "      <td>2010-01-04 00:14:00</td>\n",
       "      <td>1</td>\n",
       "      <td>1</td>\n",
       "      <td>JAN</td>\n",
       "      <td>Monday</td>\n",
       "      <td>4</td>\n",
       "      <td>0</td>\n",
       "    </tr>\n",
       "    <tr>\n",
       "      <th>2010-01-04 00:24:00</th>\n",
       "      <td>2010-01-04 00:24:00</td>\n",
       "      <td>1</td>\n",
       "      <td>1</td>\n",
       "      <td>JAN</td>\n",
       "      <td>Monday</td>\n",
       "      <td>4</td>\n",
       "      <td>0</td>\n",
       "    </tr>\n",
       "    <tr>\n",
       "      <th>2010-01-04 01:01:00</th>\n",
       "      <td>2010-01-04 01:01:00</td>\n",
       "      <td>1</td>\n",
       "      <td>1</td>\n",
       "      <td>JAN</td>\n",
       "      <td>Monday</td>\n",
       "      <td>4</td>\n",
       "      <td>1</td>\n",
       "    </tr>\n",
       "  </tbody>\n",
       "</table>\n",
       "</div>"
      ],
      "text/plain": [
       "                             login_time  ride  month month_name week_day  day  \\\n",
       "login_time                                                                      \n",
       "2010-01-04 00:12:00 2010-01-04 00:12:00     1      1        JAN   Monday    4   \n",
       "2010-01-04 00:12:42 2010-01-04 00:12:42     1      1        JAN   Monday    4   \n",
       "2010-01-04 00:14:00 2010-01-04 00:14:00     1      1        JAN   Monday    4   \n",
       "2010-01-04 00:24:00 2010-01-04 00:24:00     1      1        JAN   Monday    4   \n",
       "2010-01-04 01:01:00 2010-01-04 01:01:00     1      1        JAN   Monday    4   \n",
       "\n",
       "                     hour  \n",
       "login_time                 \n",
       "2010-01-04 00:12:00     0  \n",
       "2010-01-04 00:12:42     0  \n",
       "2010-01-04 00:14:00     0  \n",
       "2010-01-04 00:24:00     0  \n",
       "2010-01-04 01:01:00     1  "
      ]
     },
     "execution_count": 7,
     "metadata": {},
     "output_type": "execute_result"
    }
   ],
   "source": [
    "# one_day = data_interval.loc['2010-6-1']\n",
    "one_day = df[df['week_day'] == 'Monday']\n",
    "one_day.head()"
   ]
  },
  {
   "cell_type": "code",
   "execution_count": null,
   "metadata": {},
   "outputs": [],
   "source": []
  },
  {
   "cell_type": "code",
   "execution_count": null,
   "metadata": {},
   "outputs": [],
   "source": []
  }
 ],
 "metadata": {
  "kernelspec": {
   "display_name": "Python 3",
   "language": "python",
   "name": "python3"
  },
  "language_info": {
   "codemirror_mode": {
    "name": "ipython",
    "version": 3
   },
   "file_extension": ".py",
   "mimetype": "text/x-python",
   "name": "python",
   "nbconvert_exporter": "python",
   "pygments_lexer": "ipython3",
   "version": "3.6.8"
  }
 },
 "nbformat": 4,
 "nbformat_minor": 2
}
